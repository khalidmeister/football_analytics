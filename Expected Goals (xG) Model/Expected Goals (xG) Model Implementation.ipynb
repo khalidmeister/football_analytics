{
 "cells": [
  {
   "cell_type": "markdown",
   "id": "f22e79d8",
   "metadata": {},
   "source": [
    "# Expected Goals (xG) Model Implementation"
   ]
  },
  {
   "cell_type": "markdown",
   "id": "1298a093",
   "metadata": {},
   "source": [
    "Expected Goals (xG) is a metric that has been used a lot in football. The metric itself describes the likelihood of whether a shot can result in a goal. To generate the xG value, we need to build a model that can read the conditions of the match and predict the value. \n",
    "\n",
    "There are lots of variables that can affect the goal process. Those variables are the distance and angle with the goal post, how many people on the shot region, what playing style occurs in the game, and many more. \n",
    "\n",
    "In this notebook, I will show you how to build an xG model using machine learning. In the end, I use gradient boosting as the final model. It includes lots of preprocessing steps ranging from standardizing the numerical variables to encoding the categorical variables.\n",
    "\n",
    "Now first, we take a look at what the data looks like."
   ]
  },
  {
   "cell_type": "markdown",
   "id": "bb16f9f7",
   "metadata": {},
   "source": [
    "## Open The Data"
   ]
  },
  {
   "cell_type": "code",
   "execution_count": 187,
   "id": "9794a984",
   "metadata": {},
   "outputs": [],
   "source": [
    "import json\n",
    "import pandas as pd\n",
    "import numpy as np\n",
    "import matplotlib.pyplot as plt\n",
    "import seaborn as sns"
   ]
  },
  {
   "cell_type": "code",
   "execution_count": 188,
   "id": "650d7ac2",
   "metadata": {},
   "outputs": [],
   "source": [
    "import warnings\n",
    "warnings.filterwarnings('ignore')"
   ]
  },
  {
   "cell_type": "code",
   "execution_count": 189,
   "id": "a33b3a21",
   "metadata": {},
   "outputs": [
    {
     "data": {
      "text/html": [
       "<div>\n",
       "<style scoped>\n",
       "    .dataframe tbody tr th:only-of-type {\n",
       "        vertical-align: middle;\n",
       "    }\n",
       "\n",
       "    .dataframe tbody tr th {\n",
       "        vertical-align: top;\n",
       "    }\n",
       "\n",
       "    .dataframe thead th {\n",
       "        text-align: right;\n",
       "    }\n",
       "</style>\n",
       "<table border=\"1\" class=\"dataframe\">\n",
       "  <thead>\n",
       "    <tr style=\"text-align: right;\">\n",
       "      <th></th>\n",
       "      <th>id</th>\n",
       "      <th>index</th>\n",
       "      <th>period</th>\n",
       "      <th>timestamp</th>\n",
       "      <th>minute</th>\n",
       "      <th>second</th>\n",
       "      <th>possession</th>\n",
       "      <th>duration</th>\n",
       "      <th>type_id</th>\n",
       "      <th>type_name</th>\n",
       "      <th>...</th>\n",
       "      <th>substitution_replacement_name</th>\n",
       "      <th>pass_cut_back</th>\n",
       "      <th>foul_committed_type_id</th>\n",
       "      <th>foul_committed_type_name</th>\n",
       "      <th>foul_won_defensive</th>\n",
       "      <th>dribble_nutmeg</th>\n",
       "      <th>shot_aerial_won</th>\n",
       "      <th>pass_goal_assist</th>\n",
       "      <th>foul_committed_card_id</th>\n",
       "      <th>foul_committed_card_name</th>\n",
       "    </tr>\n",
       "  </thead>\n",
       "  <tbody>\n",
       "    <tr>\n",
       "      <th>0</th>\n",
       "      <td>52dd86ff-3645-45d2-b7e5-4352d9c94cf7</td>\n",
       "      <td>1</td>\n",
       "      <td>1</td>\n",
       "      <td>00:00:00.000</td>\n",
       "      <td>0</td>\n",
       "      <td>0</td>\n",
       "      <td>1</td>\n",
       "      <td>0.000</td>\n",
       "      <td>35</td>\n",
       "      <td>Starting XI</td>\n",
       "      <td>...</td>\n",
       "      <td>NaN</td>\n",
       "      <td>NaN</td>\n",
       "      <td>NaN</td>\n",
       "      <td>NaN</td>\n",
       "      <td>NaN</td>\n",
       "      <td>NaN</td>\n",
       "      <td>NaN</td>\n",
       "      <td>NaN</td>\n",
       "      <td>NaN</td>\n",
       "      <td>NaN</td>\n",
       "    </tr>\n",
       "    <tr>\n",
       "      <th>1</th>\n",
       "      <td>3957a62c-bd93-4d60-b8a0-50fcb4cc86de</td>\n",
       "      <td>2</td>\n",
       "      <td>1</td>\n",
       "      <td>00:00:00.000</td>\n",
       "      <td>0</td>\n",
       "      <td>0</td>\n",
       "      <td>1</td>\n",
       "      <td>0.000</td>\n",
       "      <td>35</td>\n",
       "      <td>Starting XI</td>\n",
       "      <td>...</td>\n",
       "      <td>NaN</td>\n",
       "      <td>NaN</td>\n",
       "      <td>NaN</td>\n",
       "      <td>NaN</td>\n",
       "      <td>NaN</td>\n",
       "      <td>NaN</td>\n",
       "      <td>NaN</td>\n",
       "      <td>NaN</td>\n",
       "      <td>NaN</td>\n",
       "      <td>NaN</td>\n",
       "    </tr>\n",
       "    <tr>\n",
       "      <th>2</th>\n",
       "      <td>8ced4d0a-8081-4626-8a02-71294523be94</td>\n",
       "      <td>3</td>\n",
       "      <td>1</td>\n",
       "      <td>00:00:00.000</td>\n",
       "      <td>0</td>\n",
       "      <td>0</td>\n",
       "      <td>1</td>\n",
       "      <td>NaN</td>\n",
       "      <td>18</td>\n",
       "      <td>Half Start</td>\n",
       "      <td>...</td>\n",
       "      <td>NaN</td>\n",
       "      <td>NaN</td>\n",
       "      <td>NaN</td>\n",
       "      <td>NaN</td>\n",
       "      <td>NaN</td>\n",
       "      <td>NaN</td>\n",
       "      <td>NaN</td>\n",
       "      <td>NaN</td>\n",
       "      <td>NaN</td>\n",
       "      <td>NaN</td>\n",
       "    </tr>\n",
       "    <tr>\n",
       "      <th>3</th>\n",
       "      <td>ecda0f67-65e3-49a0-91f1-70de83943653</td>\n",
       "      <td>4</td>\n",
       "      <td>1</td>\n",
       "      <td>00:00:00.000</td>\n",
       "      <td>0</td>\n",
       "      <td>0</td>\n",
       "      <td>1</td>\n",
       "      <td>9.975</td>\n",
       "      <td>18</td>\n",
       "      <td>Half Start</td>\n",
       "      <td>...</td>\n",
       "      <td>NaN</td>\n",
       "      <td>NaN</td>\n",
       "      <td>NaN</td>\n",
       "      <td>NaN</td>\n",
       "      <td>NaN</td>\n",
       "      <td>NaN</td>\n",
       "      <td>NaN</td>\n",
       "      <td>NaN</td>\n",
       "      <td>NaN</td>\n",
       "      <td>NaN</td>\n",
       "    </tr>\n",
       "    <tr>\n",
       "      <th>4</th>\n",
       "      <td>54ac19ea-7c2f-479f-af94-0696b04e870d</td>\n",
       "      <td>5</td>\n",
       "      <td>1</td>\n",
       "      <td>00:00:00.507</td>\n",
       "      <td>0</td>\n",
       "      <td>0</td>\n",
       "      <td>2</td>\n",
       "      <td>1.920</td>\n",
       "      <td>30</td>\n",
       "      <td>Pass</td>\n",
       "      <td>...</td>\n",
       "      <td>NaN</td>\n",
       "      <td>NaN</td>\n",
       "      <td>NaN</td>\n",
       "      <td>NaN</td>\n",
       "      <td>NaN</td>\n",
       "      <td>NaN</td>\n",
       "      <td>NaN</td>\n",
       "      <td>NaN</td>\n",
       "      <td>NaN</td>\n",
       "      <td>NaN</td>\n",
       "    </tr>\n",
       "  </tbody>\n",
       "</table>\n",
       "<p>5 rows × 102 columns</p>\n",
       "</div>"
      ],
      "text/plain": [
       "                                     id  index  period     timestamp  minute  \\\n",
       "0  52dd86ff-3645-45d2-b7e5-4352d9c94cf7      1       1  00:00:00.000       0   \n",
       "1  3957a62c-bd93-4d60-b8a0-50fcb4cc86de      2       1  00:00:00.000       0   \n",
       "2  8ced4d0a-8081-4626-8a02-71294523be94      3       1  00:00:00.000       0   \n",
       "3  ecda0f67-65e3-49a0-91f1-70de83943653      4       1  00:00:00.000       0   \n",
       "4  54ac19ea-7c2f-479f-af94-0696b04e870d      5       1  00:00:00.507       0   \n",
       "\n",
       "   second  possession  duration  type_id    type_name  ...  \\\n",
       "0       0           1     0.000       35  Starting XI  ...   \n",
       "1       0           1     0.000       35  Starting XI  ...   \n",
       "2       0           1       NaN       18   Half Start  ...   \n",
       "3       0           1     9.975       18   Half Start  ...   \n",
       "4       0           2     1.920       30         Pass  ...   \n",
       "\n",
       "   substitution_replacement_name pass_cut_back  foul_committed_type_id  \\\n",
       "0                            NaN           NaN                     NaN   \n",
       "1                            NaN           NaN                     NaN   \n",
       "2                            NaN           NaN                     NaN   \n",
       "3                            NaN           NaN                     NaN   \n",
       "4                            NaN           NaN                     NaN   \n",
       "\n",
       "  foul_committed_type_name  foul_won_defensive dribble_nutmeg  \\\n",
       "0                      NaN                 NaN            NaN   \n",
       "1                      NaN                 NaN            NaN   \n",
       "2                      NaN                 NaN            NaN   \n",
       "3                      NaN                 NaN            NaN   \n",
       "4                      NaN                 NaN            NaN   \n",
       "\n",
       "   shot_aerial_won pass_goal_assist foul_committed_card_id  \\\n",
       "0              NaN              NaN                    NaN   \n",
       "1              NaN              NaN                    NaN   \n",
       "2              NaN              NaN                    NaN   \n",
       "3              NaN              NaN                    NaN   \n",
       "4              NaN              NaN                    NaN   \n",
       "\n",
       "  foul_committed_card_name  \n",
       "0                      NaN  \n",
       "1                      NaN  \n",
       "2                      NaN  \n",
       "3                      NaN  \n",
       "4                      NaN  \n",
       "\n",
       "[5 rows x 102 columns]"
      ]
     },
     "execution_count": 189,
     "metadata": {},
     "output_type": "execute_result"
    }
   ],
   "source": [
    "with open(root + '/events/7578.json') as f:\n",
    "    file = json.load(f)\n",
    "\n",
    "match = pd.json_normalize(file, sep='_')\n",
    "match.head()"
   ]
  },
  {
   "cell_type": "code",
   "execution_count": 190,
   "id": "6061d59c",
   "metadata": {
    "scrolled": true
   },
   "outputs": [
    {
     "data": {
      "text/html": [
       "<div>\n",
       "<style scoped>\n",
       "    .dataframe tbody tr th:only-of-type {\n",
       "        vertical-align: middle;\n",
       "    }\n",
       "\n",
       "    .dataframe tbody tr th {\n",
       "        vertical-align: top;\n",
       "    }\n",
       "\n",
       "    .dataframe thead th {\n",
       "        text-align: right;\n",
       "    }\n",
       "</style>\n",
       "<table border=\"1\" class=\"dataframe\">\n",
       "  <thead>\n",
       "    <tr style=\"text-align: right;\">\n",
       "      <th></th>\n",
       "      <th>minute</th>\n",
       "      <th>duration</th>\n",
       "      <th>location</th>\n",
       "      <th>play_pattern_name</th>\n",
       "      <th>shot_end_location</th>\n",
       "      <th>shot_body_part_name</th>\n",
       "      <th>shot_technique_name</th>\n",
       "      <th>shot_type_name</th>\n",
       "      <th>shot_freeze_frame</th>\n",
       "      <th>shot_outcome_name</th>\n",
       "    </tr>\n",
       "  </thead>\n",
       "  <tbody>\n",
       "    <tr>\n",
       "      <th>409</th>\n",
       "      <td>7</td>\n",
       "      <td>1.253</td>\n",
       "      <td>[97.0, 32.0]</td>\n",
       "      <td>Regular Play</td>\n",
       "      <td>[119.0, 37.0, 0.5]</td>\n",
       "      <td>Right Foot</td>\n",
       "      <td>Normal</td>\n",
       "      <td>Open Play</td>\n",
       "      <td>[{'location': [95.0, 25.0], 'player': {'id': 5...</td>\n",
       "      <td>Saved</td>\n",
       "    </tr>\n",
       "    <tr>\n",
       "      <th>527</th>\n",
       "      <td>11</td>\n",
       "      <td>0.787</td>\n",
       "      <td>[108.0, 51.0]</td>\n",
       "      <td>From Free Kick</td>\n",
       "      <td>[118.0, 43.8, 0.9]</td>\n",
       "      <td>Right Foot</td>\n",
       "      <td>Half Volley</td>\n",
       "      <td>Open Play</td>\n",
       "      <td>[{'location': [98.0, 45.0], 'player': {'id': 5...</td>\n",
       "      <td>Saved</td>\n",
       "    </tr>\n",
       "    <tr>\n",
       "      <th>635</th>\n",
       "      <td>13</td>\n",
       "      <td>1.333</td>\n",
       "      <td>[109.0, 55.0]</td>\n",
       "      <td>From Throw In</td>\n",
       "      <td>[120.0, 46.0, 2.4]</td>\n",
       "      <td>Right Foot</td>\n",
       "      <td>Normal</td>\n",
       "      <td>Open Play</td>\n",
       "      <td>[{'location': [109.0, 50.0], 'player': {'id': ...</td>\n",
       "      <td>Off T</td>\n",
       "    </tr>\n",
       "    <tr>\n",
       "      <th>934</th>\n",
       "      <td>22</td>\n",
       "      <td>0.573</td>\n",
       "      <td>[102.0, 23.0]</td>\n",
       "      <td>From Corner</td>\n",
       "      <td>[111.0, 33.0]</td>\n",
       "      <td>Left Foot</td>\n",
       "      <td>Normal</td>\n",
       "      <td>Open Play</td>\n",
       "      <td>[{'location': [106.0, 35.0], 'player': {'id': ...</td>\n",
       "      <td>Blocked</td>\n",
       "    </tr>\n",
       "    <tr>\n",
       "      <th>939</th>\n",
       "      <td>23</td>\n",
       "      <td>0.240</td>\n",
       "      <td>[114.0, 48.0]</td>\n",
       "      <td>From Corner</td>\n",
       "      <td>[114.0, 41.0]</td>\n",
       "      <td>Head</td>\n",
       "      <td>Normal</td>\n",
       "      <td>Open Play</td>\n",
       "      <td>[{'location': [112.0, 46.0], 'player': {'id': ...</td>\n",
       "      <td>Wayward</td>\n",
       "    </tr>\n",
       "  </tbody>\n",
       "</table>\n",
       "</div>"
      ],
      "text/plain": [
       "     minute  duration       location play_pattern_name   shot_end_location  \\\n",
       "409       7     1.253   [97.0, 32.0]      Regular Play  [119.0, 37.0, 0.5]   \n",
       "527      11     0.787  [108.0, 51.0]    From Free Kick  [118.0, 43.8, 0.9]   \n",
       "635      13     1.333  [109.0, 55.0]     From Throw In  [120.0, 46.0, 2.4]   \n",
       "934      22     0.573  [102.0, 23.0]       From Corner       [111.0, 33.0]   \n",
       "939      23     0.240  [114.0, 48.0]       From Corner       [114.0, 41.0]   \n",
       "\n",
       "    shot_body_part_name shot_technique_name shot_type_name  \\\n",
       "409          Right Foot              Normal      Open Play   \n",
       "527          Right Foot         Half Volley      Open Play   \n",
       "635          Right Foot              Normal      Open Play   \n",
       "934           Left Foot              Normal      Open Play   \n",
       "939                Head              Normal      Open Play   \n",
       "\n",
       "                                     shot_freeze_frame shot_outcome_name  \n",
       "409  [{'location': [95.0, 25.0], 'player': {'id': 5...             Saved  \n",
       "527  [{'location': [98.0, 45.0], 'player': {'id': 5...             Saved  \n",
       "635  [{'location': [109.0, 50.0], 'player': {'id': ...             Off T  \n",
       "934  [{'location': [106.0, 35.0], 'player': {'id': ...           Blocked  \n",
       "939  [{'location': [112.0, 46.0], 'player': {'id': ...           Wayward  "
      ]
     },
     "execution_count": 190,
     "metadata": {},
     "output_type": "execute_result"
    }
   ],
   "source": [
    "shot = match[match.type_name == 'Shot']\n",
    "shot = shot[['minute', 'duration', 'location', 'play_pattern_name', 'shot_end_location', 'shot_body_part_name', 'shot_technique_name', 'shot_type_name', 'shot_freeze_frame', 'shot_outcome_name']]\n",
    "shot.head()"
   ]
  },
  {
   "cell_type": "markdown",
   "id": "4688eb67",
   "metadata": {},
   "source": [
    "## Data Preparation\n",
    "\n",
    "Machine learning model needs lots of data. Therefore, we need to collect all shots that occurred from all football matches regardless of the competition from the StatsBomb data. Because the data is dirty, which you can see from the example above, I conducted preprocessing steps to clean the data. Also, I generated features from the data for the modeling process. \n",
    "\n",
    "The preprocessing steps that I've done were:\n",
    "- Filter the event data that contain shots,\n",
    "- Retrieve only shots other than the penalty shootout,\n",
    "- Convert the Left and Right Foot as one value called as Foot,\n",
    "- Standardize the data,\n",
    "- Encode the categorical variables using the LabelEncoder object.\n",
    "\n",
    "The features that I generated for modelling were:\n",
    "- The Distance and Angle Between The Shot Position to The Center of Goal Post,\n",
    "- The Number of Players on The Shot Region ranging from the shot position to the goal post in a triangle format _(I will show you this on the last section)_\n",
    "\n",
    "The code below shows the helper function that I used."
   ]
  },
  {
   "cell_type": "code",
   "execution_count": 191,
   "id": "92060d64",
   "metadata": {},
   "outputs": [],
   "source": [
    "import math\n",
    "import numpy as np\n",
    "\n",
    "# Convert the shot output column to binary values. Goal or No Goal\n",
    "def mark_goal(x):\n",
    "    if x == 'Goal':\n",
    "        return \"Goal\"\n",
    "    else:\n",
    "        return \"No Goal\"\n",
    "    \n",
    "\n",
    "# Convert the body part column to three values. Head, Foot, or Other\n",
    "def mark_foot(x):\n",
    "    if x == \"Head\":\n",
    "        return \"Head\"\n",
    "    elif x == \"Other\":\n",
    "        return \"Other\"\n",
    "    else:\n",
    "        return \"Foot\"\n",
    "    \n",
    "\n",
    "# The distance is calculated from the shot position to the center of goal post\n",
    "def calculate_distance(start, end):\n",
    "    x1, y1 = start\n",
    "    x2, y2 = [120, 40]\n",
    "    \n",
    "    return (((x2 - x1) ** 2) + ((y2 - y1) ** 2)) ** 0.5\n",
    "    \n",
    "\n",
    "# The degree is calculated from the shot position to the edge of goal post\n",
    "def calculate_angle(start):\n",
    "    B = start\n",
    "    A = [120, 36]\n",
    "    C = [120, 44]\n",
    "    \n",
    "    Ax, Ay = A[0] - B[0], A[1] - B[1]\n",
    "    Cx, Cy = C[0] - B[0], C[1] - B[1]\n",
    "    \n",
    "    a = math.atan2(Ay, Ax)\n",
    "    c = math.atan2(Cy, Cx)\n",
    "    \n",
    "    if a < 0:\n",
    "        a += math.pi * 2\n",
    "    if c < 0:\n",
    "        c += math.pi * 2\n",
    "        \n",
    "    ang = math.degrees(c - a)\n",
    "    \n",
    "    return ang + 360 if ang < 0 else ang"
   ]
  },
  {
   "cell_type": "code",
   "execution_count": 192,
   "id": "e9ef9c02",
   "metadata": {},
   "outputs": [
    {
     "name": "stderr",
     "output_type": "stream",
     "text": [
      "100%|█████████████████████████████████████████| 941/941 [03:06<00:00,  5.05it/s]\n"
     ]
    },
    {
     "data": {
      "text/html": [
       "<div>\n",
       "<style scoped>\n",
       "    .dataframe tbody tr th:only-of-type {\n",
       "        vertical-align: middle;\n",
       "    }\n",
       "\n",
       "    .dataframe tbody tr th {\n",
       "        vertical-align: top;\n",
       "    }\n",
       "\n",
       "    .dataframe thead th {\n",
       "        text-align: right;\n",
       "    }\n",
       "</style>\n",
       "<table border=\"1\" class=\"dataframe\">\n",
       "  <thead>\n",
       "    <tr style=\"text-align: right;\">\n",
       "      <th></th>\n",
       "      <th>minute</th>\n",
       "      <th>duration</th>\n",
       "      <th>x</th>\n",
       "      <th>y</th>\n",
       "      <th>distance</th>\n",
       "      <th>angle</th>\n",
       "      <th>shot_freeze_frame</th>\n",
       "      <th>shot_body_part_name</th>\n",
       "      <th>play_pattern_name</th>\n",
       "      <th>shot_technique_name</th>\n",
       "      <th>is_goal</th>\n",
       "    </tr>\n",
       "  </thead>\n",
       "  <tbody>\n",
       "    <tr>\n",
       "      <th>0</th>\n",
       "      <td>4</td>\n",
       "      <td>0.413900</td>\n",
       "      <td>113.5</td>\n",
       "      <td>36.1</td>\n",
       "      <td>7.580237</td>\n",
       "      <td>51.434375</td>\n",
       "      <td>[{'location': [116.1, 39.4], 'player': {'id': ...</td>\n",
       "      <td>Head</td>\n",
       "      <td>Regular Play</td>\n",
       "      <td>Normal</td>\n",
       "      <td>Goal</td>\n",
       "    </tr>\n",
       "    <tr>\n",
       "      <th>1</th>\n",
       "      <td>14</td>\n",
       "      <td>1.057901</td>\n",
       "      <td>108.7</td>\n",
       "      <td>35.5</td>\n",
       "      <td>12.163059</td>\n",
       "      <td>34.417379</td>\n",
       "      <td>[{'location': [96.8, 48.1], 'player': {'id': 2...</td>\n",
       "      <td>Head</td>\n",
       "      <td>Regular Play</td>\n",
       "      <td>Normal</td>\n",
       "      <td>No Goal</td>\n",
       "    </tr>\n",
       "    <tr>\n",
       "      <th>2</th>\n",
       "      <td>16</td>\n",
       "      <td>0.630300</td>\n",
       "      <td>99.2</td>\n",
       "      <td>47.4</td>\n",
       "      <td>22.077137</td>\n",
       "      <td>19.442578</td>\n",
       "      <td>[{'location': [85.1, 39.7], 'player': {'id': 2...</td>\n",
       "      <td>Foot</td>\n",
       "      <td>From Throw In</td>\n",
       "      <td>Normal</td>\n",
       "      <td>No Goal</td>\n",
       "    </tr>\n",
       "    <tr>\n",
       "      <th>3</th>\n",
       "      <td>16</td>\n",
       "      <td>0.150500</td>\n",
       "      <td>112.2</td>\n",
       "      <td>36.4</td>\n",
       "      <td>8.590693</td>\n",
       "      <td>47.191614</td>\n",
       "      <td>[{'location': [99.7, 51.2], 'player': {'id': 2...</td>\n",
       "      <td>Foot</td>\n",
       "      <td>From Throw In</td>\n",
       "      <td>Normal</td>\n",
       "      <td>No Goal</td>\n",
       "    </tr>\n",
       "    <tr>\n",
       "      <th>4</th>\n",
       "      <td>16</td>\n",
       "      <td>0.862075</td>\n",
       "      <td>100.3</td>\n",
       "      <td>47.3</td>\n",
       "      <td>21.009046</td>\n",
       "      <td>20.329278</td>\n",
       "      <td>[{'location': [116.6, 2.1], 'player': {'id': 2...</td>\n",
       "      <td>Foot</td>\n",
       "      <td>From Corner</td>\n",
       "      <td>Half Volley</td>\n",
       "      <td>No Goal</td>\n",
       "    </tr>\n",
       "  </tbody>\n",
       "</table>\n",
       "</div>"
      ],
      "text/plain": [
       "   minute  duration      x     y   distance      angle  \\\n",
       "0       4  0.413900  113.5  36.1   7.580237  51.434375   \n",
       "1      14  1.057901  108.7  35.5  12.163059  34.417379   \n",
       "2      16  0.630300   99.2  47.4  22.077137  19.442578   \n",
       "3      16  0.150500  112.2  36.4   8.590693  47.191614   \n",
       "4      16  0.862075  100.3  47.3  21.009046  20.329278   \n",
       "\n",
       "                                   shot_freeze_frame shot_body_part_name  \\\n",
       "0  [{'location': [116.1, 39.4], 'player': {'id': ...                Head   \n",
       "1  [{'location': [96.8, 48.1], 'player': {'id': 2...                Head   \n",
       "2  [{'location': [85.1, 39.7], 'player': {'id': 2...                Foot   \n",
       "3  [{'location': [99.7, 51.2], 'player': {'id': 2...                Foot   \n",
       "4  [{'location': [116.6, 2.1], 'player': {'id': 2...                Foot   \n",
       "\n",
       "  play_pattern_name shot_technique_name  is_goal  \n",
       "0      Regular Play              Normal     Goal  \n",
       "1      Regular Play              Normal  No Goal  \n",
       "2     From Throw In              Normal  No Goal  \n",
       "3     From Throw In              Normal  No Goal  \n",
       "4       From Corner         Half Volley  No Goal  "
      ]
     },
     "execution_count": 192,
     "metadata": {},
     "output_type": "execute_result"
    }
   ],
   "source": [
    "import pandas as pd\n",
    "from tqdm import tqdm\n",
    "\n",
    "# The dataframe for collecting shots on each event\n",
    "shot_completed = pd.DataFrame()\n",
    "\n",
    "# Gather all event data\n",
    "for i in tqdm(os.listdir('open-data/data/events')):\n",
    "    file_path = root + '/events/' + i\n",
    "    \n",
    "    with open(file_path) as f:\n",
    "        file = json.load(f)\n",
    "    \n",
    "    match = pd.json_normalize(file, sep=\"_\")\n",
    "    \n",
    "    shot = match[match.type_name == 'Shot']\n",
    "    \n",
    "    shot = shot[['minute', 'duration', 'location', 'play_pattern_name', 'shot_end_location', 'shot_body_part_name', 'shot_technique_name', 'shot_type_name', 'shot_freeze_frame', 'shot_outcome_name']]\n",
    "    \n",
    "    shot = shot[shot.shot_type_name != \"Penalty\"]\n",
    "    \n",
    "    # The Input Variables\n",
    "    shot['distance'] = shot.apply(lambda x: calculate_distance(x['location'], x['shot_end_location']), axis=1)\n",
    "    shot['angle'] = shot.apply(lambda x: calculate_angle(x['location']), axis=1)\n",
    "    shot['x'] = shot.location.apply(lambda x: x[0])\n",
    "    shot['y'] = shot.location.apply(lambda x: x[1])\n",
    "    shot['shot_body_part_name'] = shot.shot_body_part_name.apply(lambda x: mark_foot(x))\n",
    "    \n",
    "    # The Output Variables\n",
    "    shot['is_goal'] = shot.shot_outcome_name.apply(lambda x: mark_goal(x))\n",
    "    \n",
    "    # Choose the final variables for modeling process\n",
    "    shot = shot[['minute', 'duration', 'x', 'y', 'distance', 'angle', 'shot_freeze_frame', 'shot_body_part_name', 'play_pattern_name', 'shot_technique_name', 'is_goal']]\n",
    "    \n",
    "    shot_completed = pd.concat([shot_completed, shot])\n",
    "\n",
    "shot_completed = shot_completed.reset_index()\n",
    "shot_completed = shot_completed.drop(['index'], axis=1)\n",
    "shot_completed.head()"
   ]
  },
  {
   "cell_type": "code",
   "execution_count": 193,
   "id": "f4bf206f",
   "metadata": {},
   "outputs": [
    {
     "data": {
      "text/plain": [
       "(23555, 11)"
      ]
     },
     "execution_count": 193,
     "metadata": {},
     "output_type": "execute_result"
    }
   ],
   "source": [
    "shot_completed.shape"
   ]
  },
  {
   "cell_type": "markdown",
   "id": "068f8406",
   "metadata": {},
   "source": [
    "## Exploratory Data Analysis\n",
    "\n",
    "Before I modeled the data, I conducted the exploratory data analysis to understand each proposed column. The analysis was divided into two parts. The first one is analysis for the numerical variables like angle, distance, minutes played, and duration of a shot. The second part is analysis on categorical variables like the body part, pattern name, and the shot technique<br>"
   ]
  },
  {
   "cell_type": "code",
   "execution_count": 194,
   "id": "b2a38055",
   "metadata": {},
   "outputs": [
    {
     "data": {
      "image/png": "[encoded data removed]",
      "text/plain": [
       "<Figure size 1440x360 with 4 Axes>"
      ]
     },
     "metadata": {
      "needs_background": "light"
     },
     "output_type": "display_data"
    }
   ],
   "source": [
    "fig, ax = plt.subplots(1, 4, figsize=(20, 5))\n",
    "\n",
    "sns.boxplot(x=\"is_goal\", y=\"angle\", data=shot_completed, ax=ax[0])\n",
    "ax[0].set_title('Goal vs Angle')\n",
    "sns.boxplot(x=\"is_goal\", y=\"distance\", data=shot_completed, ax=ax[1])\n",
    "ax[1].set_title('Goal vs Distance')\n",
    "sns.boxplot(x=\"is_goal\", y=\"minute\", data=shot_completed, ax=ax[2])\n",
    "ax[2].set_title('Goal vs Minutes Played')\n",
    "sns.boxplot(x=\"is_goal\", y=\"duration\", data=shot_completed, ax=ax[3])\n",
    "ax[3].set_title('Goal vs Duration Played')\n",
    "\n",
    "plt.show()"
   ]
  },
  {
   "cell_type": "markdown",
   "id": "f519c126",
   "metadata": {},
   "source": [
    "Based on the graph above, shows that each column has a different pattern if the data is grouped based on the goal. The **angle** column shows that as the number of degrees is higher, the higher chances to score a goal. The **distance** column shows that as the distance gets closer, the goal chances get higher.<br> \n",
    "\n",
    "Besides both columns, I also added the **minutes played** column and the **duration** column. The reason behind the inclusion of the **minute** column is that I observed so many goals occurred at the end of the second half. As the third chart shows above, there are slightly increased chances to score a goal at the end of the second half. \n",
    "\n",
    "The **duration** column is included because I am curious what if that column is added. Because there are higher chances to score a goal if the shot has a short duration to it. As the final chart shows, it seems difficult to look if the column has an impact to generate a goal. Nevertheless, I included the modeling process."
   ]
  },
  {
   "cell_type": "code",
   "execution_count": 195,
   "id": "18724e33",
   "metadata": {
    "scrolled": true
   },
   "outputs": [
    {
     "data": {
      "image/png": "[encoded data removed]",
      "text/plain": [
       "<Figure size 1155.38x360 with 1 Axes>"
      ]
     },
     "metadata": {
      "needs_background": "light"
     },
     "output_type": "display_data"
    },
    {
     "data": {
      "image/png": "[encoded data removed]",
      "text/plain": [
       "<Figure size 1155.38x360 with 1 Axes>"
      ]
     },
     "metadata": {
      "needs_background": "light"
     },
     "output_type": "display_data"
    },
    {
     "data": {
      "image/png": "[encoded data removed]",
      "text/plain": [
       "<Figure size 1155.38x360 with 1 Axes>"
      ]
     },
     "metadata": {
      "needs_background": "light"
     },
     "output_type": "display_data"
    }
   ],
   "source": [
    "sns.catplot(x=\"play_pattern_name\", kind=\"count\", hue=\"is_goal\", data=shot_completed, height=5, aspect=3)\n",
    "sns.catplot(x=\"shot_technique_name\", kind=\"count\", hue=\"is_goal\", data=shot_completed, height=5, aspect=3)\n",
    "sns.catplot(x=\"shot_body_part_name\", kind=\"count\", hue=\"is_goal\", data=shot_completed, height=5, aspect=3)\n",
    "\n",
    "plt.show()"
   ]
  },
  {
   "cell_type": "markdown",
   "id": "fc435711",
   "metadata": {},
   "source": [
    "Based on the graph above, we can see associations between the output variable with the categorical inputs. The play pattern column has a different contribution to the final output.\n",
    "\n",
    "- From the play pattern name, We can see that goals from the counter have a higher proportion to score goals. \n",
    "- From the shot technique name column, we can see that lob has a higher proportion to score goals from it, along with the volley shots. \n",
    "- And the body part, we can see the head part has a higher proportion to score a goal."
   ]
  },
  {
   "cell_type": "markdown",
   "id": "e39ab169",
   "metadata": {},
   "source": [
    "## Model Implementation\n",
    "\n",
    "For implementing the xG model, I conducted several experiments. In summary, the modeling processes are divided into several treatments:\n",
    "\n",
    "- Using features like the coordinates (x, y), distance, angle\n",
    "- Using previous features along with the duration and minute\n",
    "    - With those features, I compared models like Logistic Regression and Gradient Boosting. From this, I chose the best model.\n",
    "- Using previous features along with the categorical variables like the playing pattern, the body part, and shot technique name\n",
    "- Using previous features and resample the data.\n",
    "\n",
    "### Features: x, y, distance, angle"
   ]
  },
  {
   "cell_type": "code",
   "execution_count": 196,
   "id": "97fc930d",
   "metadata": {},
   "outputs": [],
   "source": [
    "from sklearn.linear_model import LogisticRegression\n",
    "from sklearn.metrics import classification_report\n",
    "from sklearn.model_selection import train_test_split\n",
    "from sklearn.ensemble import GradientBoostingClassifier"
   ]
  },
  {
   "cell_type": "code",
   "execution_count": 197,
   "id": "6a6c2ba1",
   "metadata": {},
   "outputs": [],
   "source": [
    "X = shot_completed[['x', 'y', 'distance', 'angle']].values\n",
    "\n",
    "# Encode the is_goal variable. The 0 value represents No Goal, and the 1 value represents Goal.\n",
    "y = np.where(shot_completed.is_goal == 'No Goal', 0, 1)\n",
    "\n",
    "X_train, X_test, y_train, y_test = train_test_split(X, y, test_size=0.2, random_state=42)"
   ]
  },
  {
   "cell_type": "code",
   "execution_count": 198,
   "id": "34920cd1",
   "metadata": {},
   "outputs": [
    {
     "name": "stdout",
     "output_type": "stream",
     "text": [
      "              precision    recall  f1-score   support\n",
      "\n",
      "           0       0.89      1.00      0.94      4190\n",
      "           1       0.53      0.03      0.06       521\n",
      "\n",
      "    accuracy                           0.89      4711\n",
      "   macro avg       0.71      0.51      0.50      4711\n",
      "weighted avg       0.85      0.89      0.84      4711\n",
      "\n"
     ]
    }
   ],
   "source": [
    "model = LogisticRegression(random_state=42)\n",
    "model.fit(X_train, y_train)\n",
    "y_pred = model.predict(X_test)\n",
    "print(classification_report(y_test, y_pred))"
   ]
  },
  {
   "cell_type": "code",
   "execution_count": 199,
   "id": "31463771",
   "metadata": {},
   "outputs": [
    {
     "name": "stdout",
     "output_type": "stream",
     "text": [
      "              precision    recall  f1-score   support\n",
      "\n",
      "           0       0.89      0.99      0.94      4190\n",
      "           1       0.48      0.04      0.07       521\n",
      "\n",
      "    accuracy                           0.89      4711\n",
      "   macro avg       0.68      0.52      0.51      4711\n",
      "weighted avg       0.85      0.89      0.84      4711\n",
      "\n"
     ]
    }
   ],
   "source": [
    "model = GradientBoostingClassifier(random_state=42)\n",
    "model.fit(X_train, y_train)\n",
    "y_pred = model.predict(X_test)\n",
    "print(classification_report(y_test, y_pred))"
   ]
  },
  {
   "cell_type": "markdown",
   "id": "08ac46db",
   "metadata": {},
   "source": [
    "### Features: x, y, distance, angle, minute, duration"
   ]
  },
  {
   "cell_type": "code",
   "execution_count": 200,
   "id": "76a0da86",
   "metadata": {},
   "outputs": [],
   "source": [
    "X = shot_completed[['x', 'y', 'distance', 'angle', 'minute', 'duration']].values\n",
    "y = np.where(shot_completed.is_goal == 'No Goal', 0, 1)\n",
    "\n",
    "X_train, X_test, y_train, y_test = train_test_split(X, y, test_size=0.2, random_state=42)"
   ]
  },
  {
   "cell_type": "code",
   "execution_count": 201,
   "id": "716b7255",
   "metadata": {},
   "outputs": [
    {
     "name": "stdout",
     "output_type": "stream",
     "text": [
      "              precision    recall  f1-score   support\n",
      "\n",
      "           0       0.89      1.00      0.94      4190\n",
      "           1       0.41      0.03      0.05       521\n",
      "\n",
      "    accuracy                           0.89      4711\n",
      "   macro avg       0.65      0.51      0.50      4711\n",
      "weighted avg       0.84      0.89      0.84      4711\n",
      "\n"
     ]
    }
   ],
   "source": [
    "model = LogisticRegression(random_state=42)\n",
    "model.fit(X_train, y_train)\n",
    "y_pred = model.predict(X_test)\n",
    "print(classification_report(y_test, y_pred))"
   ]
  },
  {
   "cell_type": "code",
   "execution_count": 202,
   "id": "895b76bb",
   "metadata": {},
   "outputs": [
    {
     "name": "stdout",
     "output_type": "stream",
     "text": [
      "              precision    recall  f1-score   support\n",
      "\n",
      "           0       0.89      0.99      0.94      4190\n",
      "           1       0.52      0.06      0.10       521\n",
      "\n",
      "    accuracy                           0.89      4711\n",
      "   macro avg       0.71      0.53      0.52      4711\n",
      "weighted avg       0.85      0.89      0.85      4711\n",
      "\n"
     ]
    }
   ],
   "source": [
    "model = GradientBoostingClassifier(random_state=42)\n",
    "model.fit(X_train, y_train)\n",
    "y_pred = model.predict(X_test)\n",
    "print(classification_report(y_test, y_pred))"
   ]
  },
  {
   "cell_type": "markdown",
   "id": "a33b2515",
   "metadata": {},
   "source": [
    "We can see that by adding more variables, the performance is also increasing, except for logistic regression that has the lowest performance. Therefore, I used the Gradient Boosting Classifier model for further development."
   ]
  },
  {
   "cell_type": "markdown",
   "id": "06f8a5b1",
   "metadata": {},
   "source": [
    "### Features: numerical and categorical variables combined\n",
    "\n",
    "As you can see from above, the model performance for predicting the goal is still poor. Therefore, I combined the categorical variables as the input. Also, I normalized the numerical variables to diminish dominance from each variable. Therefore, all variables were treated the same."
   ]
  },
  {
   "cell_type": "code",
   "execution_count": 203,
   "id": "65f36c53",
   "metadata": {},
   "outputs": [
    {
     "data": {
      "text/html": [
       "<div>\n",
       "<style scoped>\n",
       "    .dataframe tbody tr th:only-of-type {\n",
       "        vertical-align: middle;\n",
       "    }\n",
       "\n",
       "    .dataframe tbody tr th {\n",
       "        vertical-align: top;\n",
       "    }\n",
       "\n",
       "    .dataframe thead th {\n",
       "        text-align: right;\n",
       "    }\n",
       "</style>\n",
       "<table border=\"1\" class=\"dataframe\">\n",
       "  <thead>\n",
       "    <tr style=\"text-align: right;\">\n",
       "      <th></th>\n",
       "      <th>minute</th>\n",
       "      <th>duration</th>\n",
       "      <th>x</th>\n",
       "      <th>y</th>\n",
       "      <th>distance</th>\n",
       "      <th>angle</th>\n",
       "      <th>shot_freeze_frame</th>\n",
       "      <th>shot_body_part_name</th>\n",
       "      <th>play_pattern_name</th>\n",
       "      <th>shot_technique_name</th>\n",
       "      <th>is_goal</th>\n",
       "    </tr>\n",
       "  </thead>\n",
       "  <tbody>\n",
       "    <tr>\n",
       "      <th>0</th>\n",
       "      <td>4</td>\n",
       "      <td>0.413900</td>\n",
       "      <td>113.5</td>\n",
       "      <td>36.1</td>\n",
       "      <td>7.580237</td>\n",
       "      <td>51.434375</td>\n",
       "      <td>[{'location': [116.1, 39.4], 'player': {'id': ...</td>\n",
       "      <td>Head</td>\n",
       "      <td>Regular Play</td>\n",
       "      <td>Normal</td>\n",
       "      <td>Goal</td>\n",
       "    </tr>\n",
       "    <tr>\n",
       "      <th>1</th>\n",
       "      <td>14</td>\n",
       "      <td>1.057901</td>\n",
       "      <td>108.7</td>\n",
       "      <td>35.5</td>\n",
       "      <td>12.163059</td>\n",
       "      <td>34.417379</td>\n",
       "      <td>[{'location': [96.8, 48.1], 'player': {'id': 2...</td>\n",
       "      <td>Head</td>\n",
       "      <td>Regular Play</td>\n",
       "      <td>Normal</td>\n",
       "      <td>No Goal</td>\n",
       "    </tr>\n",
       "    <tr>\n",
       "      <th>2</th>\n",
       "      <td>16</td>\n",
       "      <td>0.630300</td>\n",
       "      <td>99.2</td>\n",
       "      <td>47.4</td>\n",
       "      <td>22.077137</td>\n",
       "      <td>19.442578</td>\n",
       "      <td>[{'location': [85.1, 39.7], 'player': {'id': 2...</td>\n",
       "      <td>Foot</td>\n",
       "      <td>From Throw In</td>\n",
       "      <td>Normal</td>\n",
       "      <td>No Goal</td>\n",
       "    </tr>\n",
       "    <tr>\n",
       "      <th>3</th>\n",
       "      <td>16</td>\n",
       "      <td>0.150500</td>\n",
       "      <td>112.2</td>\n",
       "      <td>36.4</td>\n",
       "      <td>8.590693</td>\n",
       "      <td>47.191614</td>\n",
       "      <td>[{'location': [99.7, 51.2], 'player': {'id': 2...</td>\n",
       "      <td>Foot</td>\n",
       "      <td>From Throw In</td>\n",
       "      <td>Normal</td>\n",
       "      <td>No Goal</td>\n",
       "    </tr>\n",
       "    <tr>\n",
       "      <th>4</th>\n",
       "      <td>16</td>\n",
       "      <td>0.862075</td>\n",
       "      <td>100.3</td>\n",
       "      <td>47.3</td>\n",
       "      <td>21.009046</td>\n",
       "      <td>20.329278</td>\n",
       "      <td>[{'location': [116.6, 2.1], 'player': {'id': 2...</td>\n",
       "      <td>Foot</td>\n",
       "      <td>From Corner</td>\n",
       "      <td>Half Volley</td>\n",
       "      <td>No Goal</td>\n",
       "    </tr>\n",
       "  </tbody>\n",
       "</table>\n",
       "</div>"
      ],
      "text/plain": [
       "   minute  duration      x     y   distance      angle  \\\n",
       "0       4  0.413900  113.5  36.1   7.580237  51.434375   \n",
       "1      14  1.057901  108.7  35.5  12.163059  34.417379   \n",
       "2      16  0.630300   99.2  47.4  22.077137  19.442578   \n",
       "3      16  0.150500  112.2  36.4   8.590693  47.191614   \n",
       "4      16  0.862075  100.3  47.3  21.009046  20.329278   \n",
       "\n",
       "                                   shot_freeze_frame shot_body_part_name  \\\n",
       "0  [{'location': [116.1, 39.4], 'player': {'id': ...                Head   \n",
       "1  [{'location': [96.8, 48.1], 'player': {'id': 2...                Head   \n",
       "2  [{'location': [85.1, 39.7], 'player': {'id': 2...                Foot   \n",
       "3  [{'location': [99.7, 51.2], 'player': {'id': 2...                Foot   \n",
       "4  [{'location': [116.6, 2.1], 'player': {'id': 2...                Foot   \n",
       "\n",
       "  play_pattern_name shot_technique_name  is_goal  \n",
       "0      Regular Play              Normal     Goal  \n",
       "1      Regular Play              Normal  No Goal  \n",
       "2     From Throw In              Normal  No Goal  \n",
       "3     From Throw In              Normal  No Goal  \n",
       "4       From Corner         Half Volley  No Goal  "
      ]
     },
     "execution_count": 203,
     "metadata": {},
     "output_type": "execute_result"
    }
   ],
   "source": [
    "shot_completed.head()"
   ]
  },
  {
   "cell_type": "code",
   "execution_count": 204,
   "id": "9b833acc",
   "metadata": {},
   "outputs": [],
   "source": [
    "X = shot_completed.drop(['is_goal'], axis=1)\n",
    "y = np.where(shot_completed.is_goal == 'No Goal', 0, 1)\n",
    "\n",
    "X_train, X_test, y_train, y_test = train_test_split(X, y, test_size=0.2, random_state=42)"
   ]
  },
  {
   "cell_type": "code",
   "execution_count": 205,
   "id": "dcdcda57",
   "metadata": {},
   "outputs": [
    {
     "name": "stdout",
     "output_type": "stream",
     "text": [
      "(18844, 10)\n",
      "(4711, 10)\n"
     ]
    }
   ],
   "source": [
    "print(X_train.shape)\n",
    "print(X_test.shape)"
   ]
  },
  {
   "cell_type": "code",
   "execution_count": 206,
   "id": "7aea5654",
   "metadata": {},
   "outputs": [],
   "source": [
    "from sklearn.preprocessing import LabelEncoder, StandardScaler\n",
    "\n",
    "num_var = ['minute', 'duration', 'x', 'y', 'distance', 'angle']\n",
    "\n",
    "X_train_num = X_train[num_var]\n",
    "X_test_num = X_test[num_var]\n",
    "\n",
    "scaler = StandardScaler()\n",
    "scaler.fit(X_train_num)\n",
    "\n",
    "X_train_num = scaler.transform(X_train_num)\n",
    "X_test_num = scaler.transform(X_test_num)"
   ]
  },
  {
   "cell_type": "code",
   "execution_count": 207,
   "id": "f29c04e6",
   "metadata": {},
   "outputs": [],
   "source": [
    "cat_var = ['shot_body_part_name', 'play_pattern_name', 'shot_technique_name']\n",
    "\n",
    "X_train_cat = X_train[cat_var]\n",
    "X_test_cat = X_test[cat_var]\n",
    "\n",
    "le = LabelEncoder()\n",
    "\n",
    "le.fit(X_train_cat.shot_body_part_name)\n",
    "X_train_cat['shot_body_part_name'] = le.transform(X_train_cat.shot_body_part_name)\n",
    "X_test_cat['shot_body_part_name'] = le.transform(X_test_cat.shot_body_part_name)\n",
    "\n",
    "le.fit(X_train_cat.play_pattern_name)\n",
    "X_train_cat['play_pattern_name'] = le.transform(X_train_cat.play_pattern_name)\n",
    "X_test_cat['play_pattern_name'] = le.transform(X_test_cat.play_pattern_name)\n",
    "\n",
    "le.fit(X_train_cat.shot_technique_name)\n",
    "X_train_cat['shot_technique_name'] = le.transform(X_train_cat.shot_technique_name)\n",
    "X_test_cat['shot_technique_name'] = le.transform(X_test_cat.shot_technique_name)\n",
    "\n",
    "X_train_cat = X_train_cat.values\n",
    "X_test_cat = X_test_cat.values"
   ]
  },
  {
   "cell_type": "code",
   "execution_count": 208,
   "id": "876a8934",
   "metadata": {},
   "outputs": [
    {
     "name": "stdout",
     "output_type": "stream",
     "text": [
      "(18844, 9)\n",
      "(4711, 9)\n"
     ]
    }
   ],
   "source": [
    "X_train = np.concatenate([X_train_num, X_train_cat], axis=1)\n",
    "X_test = np.concatenate([X_test_num, X_test_cat], axis=1)\n",
    "\n",
    "print(X_train.shape)\n",
    "print(X_test.shape)"
   ]
  },
  {
   "cell_type": "code",
   "execution_count": 209,
   "id": "262b0c0b",
   "metadata": {},
   "outputs": [
    {
     "name": "stdout",
     "output_type": "stream",
     "text": [
      "              precision    recall  f1-score   support\n",
      "\n",
      "           0       0.90      0.99      0.95      4190\n",
      "           1       0.68      0.15      0.25       521\n",
      "\n",
      "    accuracy                           0.90      4711\n",
      "   macro avg       0.79      0.57      0.60      4711\n",
      "weighted avg       0.88      0.90      0.87      4711\n",
      "\n"
     ]
    }
   ],
   "source": [
    "model = GradientBoostingClassifier(random_state=42)\n",
    "model.fit(X_train, y_train)\n",
    "y_pred = model.predict(X_test)\n",
    "print(classification_report(y_test, y_pred))\n",
    "\n",
    "# THE BEST PREVIOUS RESULT \n",
    "# (Gradient Boosting with coordinates, minutes of played, \n",
    "# and duration of shots variables)\n",
    "#######################################################\n",
    "#               precision    recall  f1-score   support\n",
    "\n",
    "#            0       0.89      0.99      0.94      4190\n",
    "#            1       0.52      0.06      0.10       521\n",
    "\n",
    "#     accuracy                           0.89      4711\n",
    "#    macro avg       0.71      0.53      0.52      4711\n",
    "# weighted avg       0.85      0.89      0.85      4711"
   ]
  },
  {
   "cell_type": "markdown",
   "id": "fc133b0b",
   "metadata": {},
   "source": [
    "As you can see from above, the model is way more improved than the previous model, especially on the class '1' that represents a goal. But although the model has an accuracy of 90%, the model performs poorly on the class '1'. Therefore, I tried to improve the model by handling the imbalance of the data."
   ]
  },
  {
   "cell_type": "markdown",
   "id": "1f1261a6",
   "metadata": {},
   "source": [
    "### Handling the imbalance data"
   ]
  },
  {
   "cell_type": "markdown",
   "id": "16561eb5",
   "metadata": {},
   "source": [
    "Because the data is imbalanced, the model performance for predicting goals is poor. To mitigate this, I resampled the data by using SMOTE. I didn't use undersampling to avoid poor performance and not to use oversampling to avoid overfitting. SMOTE belongs to the oversampling method. But rather than oversample the data explicitly, SMOTE tries to generate new data by interpolating the data based on the data itself."
   ]
  },
  {
   "cell_type": "code",
   "execution_count": 210,
   "id": "a568b6ae",
   "metadata": {},
   "outputs": [],
   "source": [
    "from sklearn.preprocessing import LabelEncoder, StandardScaler\n",
    "\n",
    "X = shot_completed.drop(['is_goal'], axis=1)\n",
    "y = np.where(shot_completed.is_goal == 'No Goal', 0, 1)\n",
    "\n",
    "X_train, X_test, y_train, y_test = train_test_split(X, y, test_size=0.2, random_state=42)\n",
    "\n",
    "# Numerical Variables\n",
    "num_var = ['minute', 'duration', 'x', 'y', 'distance', 'angle']\n",
    "\n",
    "X_train_num = X_train[num_var]\n",
    "X_test_num = X_test[num_var]\n",
    "\n",
    "scaler = StandardScaler()\n",
    "scaler.fit(X_train_num)\n",
    "\n",
    "X_train_num = scaler.transform(X_train_num)\n",
    "X_test_num = scaler.transform(X_test_num)\n",
    "\n",
    "# Categorical Variables\n",
    "cat_var = ['shot_body_part_name', 'play_pattern_name', 'shot_technique_name']\n",
    "\n",
    "X_train_cat = X_train[cat_var]\n",
    "X_test_cat = X_test[cat_var]\n",
    "\n",
    "le = LabelEncoder()\n",
    "\n",
    "le.fit(X_train_cat.shot_body_part_name)\n",
    "X_train_cat['shot_body_part_name'] = le.transform(X_train_cat.shot_body_part_name)\n",
    "X_test_cat['shot_body_part_name'] = le.transform(X_test_cat.shot_body_part_name)\n",
    "\n",
    "le.fit(X_train_cat.play_pattern_name)\n",
    "X_train_cat['play_pattern_name'] = le.transform(X_train_cat.play_pattern_name)\n",
    "X_test_cat['play_pattern_name'] = le.transform(X_test_cat.play_pattern_name)\n",
    "\n",
    "le.fit(X_train_cat.shot_technique_name)\n",
    "X_train_cat['shot_technique_name'] = le.transform(X_train_cat.shot_technique_name)\n",
    "X_test_cat['shot_technique_name'] = le.transform(X_test_cat.shot_technique_name)\n",
    "\n",
    "X_train_cat = X_train_cat.values\n",
    "X_test_cat = X_test_cat.values\n",
    "\n",
    "X_train = np.concatenate([X_train_num, X_train_cat], axis=1)\n",
    "X_test = np.concatenate([X_test_num, X_test_cat], axis=1)"
   ]
  },
  {
   "cell_type": "code",
   "execution_count": 211,
   "id": "98873cda",
   "metadata": {
    "scrolled": false
   },
   "outputs": [
    {
     "name": "stdout",
     "output_type": "stream",
     "text": [
      "              precision    recall  f1-score   support\n",
      "\n",
      "           0       0.96      0.79      0.87      4190\n",
      "           1       0.31      0.76      0.44       521\n",
      "\n",
      "    accuracy                           0.78      4711\n",
      "   macro avg       0.64      0.77      0.65      4711\n",
      "weighted avg       0.89      0.78      0.82      4711\n",
      "\n"
     ]
    }
   ],
   "source": [
    "# THE BEST SAMPLING METHOD\n",
    "\n",
    "from imblearn.over_sampling import SMOTE\n",
    "\n",
    "# Applying SMOTE\n",
    "sm = SMOTE(random_state=42)\n",
    "X_res, y_res = sm.fit_resample(X_train, y_train)\n",
    "\n",
    "model = GradientBoostingClassifier(random_state=42)\n",
    "model.fit(X_res, y_res)\n",
    "y_pred = model.predict(X_test)\n",
    "print(classification_report(y_test, y_pred))"
   ]
  },
  {
   "cell_type": "code",
   "execution_count": 212,
   "id": "5da286cf",
   "metadata": {},
   "outputs": [
    {
     "name": "stdout",
     "output_type": "stream",
     "text": [
      "              precision    recall  f1-score   support\n",
      "\n",
      "           0       0.97      0.71      0.82      4190\n",
      "           1       0.26      0.83      0.40       521\n",
      "\n",
      "    accuracy                           0.72      4711\n",
      "   macro avg       0.62      0.77      0.61      4711\n",
      "weighted avg       0.89      0.72      0.77      4711\n",
      "\n"
     ]
    }
   ],
   "source": [
    "from imblearn.combine import SMOTEENN\n",
    "\n",
    "# Applying SMOTE\n",
    "sm = SMOTEENN(random_state=42)\n",
    "X_res, y_res = sm.fit_resample(X_train, y_train)\n",
    "\n",
    "model = GradientBoostingClassifier(random_state=42)\n",
    "model.fit(X_res, y_res)\n",
    "y_pred = model.predict(X_test)\n",
    "print(classification_report(y_test, y_pred))"
   ]
  },
  {
   "cell_type": "code",
   "execution_count": 213,
   "id": "b8cdcb0a",
   "metadata": {},
   "outputs": [
    {
     "name": "stdout",
     "output_type": "stream",
     "text": [
      "              precision    recall  f1-score   support\n",
      "\n",
      "           0       0.96      0.79      0.87      4190\n",
      "           1       0.30      0.75      0.43       521\n",
      "\n",
      "    accuracy                           0.78      4711\n",
      "   macro avg       0.63      0.77      0.65      4711\n",
      "weighted avg       0.89      0.78      0.82      4711\n",
      "\n"
     ]
    }
   ],
   "source": [
    "from imblearn.combine import SMOTETomek\n",
    "\n",
    "# Applying SMOTE\n",
    "sm = SMOTETomek(random_state=42)\n",
    "X_res, y_res = sm.fit_resample(X_train, y_train)\n",
    "\n",
    "model = GradientBoostingClassifier(random_state=42)\n",
    "model.fit(X_res, y_res)\n",
    "y_pred = model.predict(X_test)\n",
    "print(classification_report(y_test, y_pred))"
   ]
  },
  {
   "cell_type": "markdown",
   "id": "16b55f15",
   "metadata": {},
   "source": [
    "As you can see from the result above, we can see there is a huge improvement in model performance, especially on Precision, Recall, and F1-Score value for the '1' label, where it represents a goal. From all sampling methods that I used, the **SMOTE** method had the best model performance. Therefore, I state this model as the final model."
   ]
  },
  {
   "cell_type": "markdown",
   "id": "84a921f4",
   "metadata": {},
   "source": [
    "### Adding New Variables\n",
    "\n",
    "I am still curious about how to improve the xG model. Therefore, I add another variable. In short, the variable describes the number of players that could block the ball when the shot occurred. To determine whether a player has the potential to block players, I used this formula from GeeksForGeeks (https://www.geeksforgeeks.org/check-whether-a-given-point-lies-inside-a-triangle-or-not/). \n",
    "\n",
    "In summary, the formula tries to calculate areas on three different triangles, and each triangle contains the point that we want to predict. If the sum of three triangles is the same as the main triangle, it means that the point lies inside the triangle."
   ]
  },
  {
   "cell_type": "code",
   "execution_count": 214,
   "id": "6feef2a1",
   "metadata": {},
   "outputs": [
    {
     "data": {
      "text/html": [
       "<div>\n",
       "<style scoped>\n",
       "    .dataframe tbody tr th:only-of-type {\n",
       "        vertical-align: middle;\n",
       "    }\n",
       "\n",
       "    .dataframe tbody tr th {\n",
       "        vertical-align: top;\n",
       "    }\n",
       "\n",
       "    .dataframe thead th {\n",
       "        text-align: right;\n",
       "    }\n",
       "</style>\n",
       "<table border=\"1\" class=\"dataframe\">\n",
       "  <thead>\n",
       "    <tr style=\"text-align: right;\">\n",
       "      <th></th>\n",
       "      <th>minute</th>\n",
       "      <th>duration</th>\n",
       "      <th>x</th>\n",
       "      <th>y</th>\n",
       "      <th>distance</th>\n",
       "      <th>angle</th>\n",
       "      <th>shot_freeze_frame</th>\n",
       "      <th>shot_body_part_name</th>\n",
       "      <th>play_pattern_name</th>\n",
       "      <th>shot_technique_name</th>\n",
       "      <th>is_goal</th>\n",
       "      <th>blocking_players</th>\n",
       "    </tr>\n",
       "  </thead>\n",
       "  <tbody>\n",
       "    <tr>\n",
       "      <th>0</th>\n",
       "      <td>4</td>\n",
       "      <td>0.413900</td>\n",
       "      <td>113.5</td>\n",
       "      <td>36.1</td>\n",
       "      <td>7.580237</td>\n",
       "      <td>51.434375</td>\n",
       "      <td>[{'location': [116.1, 39.4], 'player': {'id': ...</td>\n",
       "      <td>Head</td>\n",
       "      <td>Regular Play</td>\n",
       "      <td>Normal</td>\n",
       "      <td>Goal</td>\n",
       "      <td>0</td>\n",
       "    </tr>\n",
       "    <tr>\n",
       "      <th>1</th>\n",
       "      <td>14</td>\n",
       "      <td>1.057901</td>\n",
       "      <td>108.7</td>\n",
       "      <td>35.5</td>\n",
       "      <td>12.163059</td>\n",
       "      <td>34.417379</td>\n",
       "      <td>[{'location': [96.8, 48.1], 'player': {'id': 2...</td>\n",
       "      <td>Head</td>\n",
       "      <td>Regular Play</td>\n",
       "      <td>Normal</td>\n",
       "      <td>No Goal</td>\n",
       "      <td>0</td>\n",
       "    </tr>\n",
       "    <tr>\n",
       "      <th>2</th>\n",
       "      <td>16</td>\n",
       "      <td>0.630300</td>\n",
       "      <td>99.2</td>\n",
       "      <td>47.4</td>\n",
       "      <td>22.077137</td>\n",
       "      <td>19.442578</td>\n",
       "      <td>[{'location': [85.1, 39.7], 'player': {'id': 2...</td>\n",
       "      <td>Foot</td>\n",
       "      <td>From Throw In</td>\n",
       "      <td>Normal</td>\n",
       "      <td>No Goal</td>\n",
       "      <td>1</td>\n",
       "    </tr>\n",
       "    <tr>\n",
       "      <th>3</th>\n",
       "      <td>16</td>\n",
       "      <td>0.150500</td>\n",
       "      <td>112.2</td>\n",
       "      <td>36.4</td>\n",
       "      <td>8.590693</td>\n",
       "      <td>47.191614</td>\n",
       "      <td>[{'location': [99.7, 51.2], 'player': {'id': 2...</td>\n",
       "      <td>Foot</td>\n",
       "      <td>From Throw In</td>\n",
       "      <td>Normal</td>\n",
       "      <td>No Goal</td>\n",
       "      <td>0</td>\n",
       "    </tr>\n",
       "    <tr>\n",
       "      <th>4</th>\n",
       "      <td>16</td>\n",
       "      <td>0.862075</td>\n",
       "      <td>100.3</td>\n",
       "      <td>47.3</td>\n",
       "      <td>21.009046</td>\n",
       "      <td>20.329278</td>\n",
       "      <td>[{'location': [116.6, 2.1], 'player': {'id': 2...</td>\n",
       "      <td>Foot</td>\n",
       "      <td>From Corner</td>\n",
       "      <td>Half Volley</td>\n",
       "      <td>No Goal</td>\n",
       "      <td>0</td>\n",
       "    </tr>\n",
       "  </tbody>\n",
       "</table>\n",
       "</div>"
      ],
      "text/plain": [
       "   minute  duration      x     y   distance      angle  \\\n",
       "0       4  0.413900  113.5  36.1   7.580237  51.434375   \n",
       "1      14  1.057901  108.7  35.5  12.163059  34.417379   \n",
       "2      16  0.630300   99.2  47.4  22.077137  19.442578   \n",
       "3      16  0.150500  112.2  36.4   8.590693  47.191614   \n",
       "4      16  0.862075  100.3  47.3  21.009046  20.329278   \n",
       "\n",
       "                                   shot_freeze_frame shot_body_part_name  \\\n",
       "0  [{'location': [116.1, 39.4], 'player': {'id': ...                Head   \n",
       "1  [{'location': [96.8, 48.1], 'player': {'id': 2...                Head   \n",
       "2  [{'location': [85.1, 39.7], 'player': {'id': 2...                Foot   \n",
       "3  [{'location': [99.7, 51.2], 'player': {'id': 2...                Foot   \n",
       "4  [{'location': [116.6, 2.1], 'player': {'id': 2...                Foot   \n",
       "\n",
       "  play_pattern_name shot_technique_name  is_goal  blocking_players  \n",
       "0      Regular Play              Normal     Goal                 0  \n",
       "1      Regular Play              Normal  No Goal                 0  \n",
       "2     From Throw In              Normal  No Goal                 1  \n",
       "3     From Throw In              Normal  No Goal                 0  \n",
       "4       From Corner         Half Volley  No Goal                 0  "
      ]
     },
     "execution_count": 214,
     "metadata": {},
     "output_type": "execute_result"
    }
   ],
   "source": [
    "# Calculate triangle\n",
    "def area(x1, y1, x2, y2, x3, y3):\n",
    "    return abs((x1 * (y2 - y3) + x2 * (y3 - y1) + x3 * (y1 - y2)) / 2.0)\n",
    "\n",
    "\n",
    "# Calculate the number of potential players that block the ball within the triangle\n",
    "# The triangle spans from the shot point to the edge of the goal post\n",
    "def calculate_blocking_players(x1, y1, frame):\n",
    "    # The coordinate for each edge of the goal postedge of go\n",
    "    x2, y2 = [120, 36]\n",
    "    x3, y3 = [120, 44]\n",
    "\n",
    "    num_players = 0\n",
    "    \n",
    "    for j in frame:\n",
    "\n",
    "        x, y = j['location']\n",
    "\n",
    "        A = area(x1, y1, x2, y2, x3, y3)\n",
    "        A1 = area(x, y, x2, y2, x3, y3)\n",
    "        A2 = area(x1, y1, x, y, x3, y3)\n",
    "        A3 = area(x1, y1, x2, y2, x, y)\n",
    "\n",
    "        count = A == A1 + A2 + A3\n",
    "        \n",
    "        num_players = num_players + count\n",
    "    \n",
    "    return num_players\n",
    "\n",
    "\n",
    "shot_completed['blocking_players'] = shot_completed.apply(lambda x: calculate_blocking_players(x['x'], x['y'], x['shot_freeze_frame']), axis=1)\n",
    "shot_completed.head()"
   ]
  },
  {
   "cell_type": "code",
   "execution_count": 215,
   "id": "c6bbdcbf",
   "metadata": {},
   "outputs": [
    {
     "data": {
      "text/plain": [
       "<AxesSubplot:xlabel='is_goal', ylabel='blocking_players'>"
      ]
     },
     "execution_count": 215,
     "metadata": {},
     "output_type": "execute_result"
    },
    {
     "data": {
      "image/png": "[encoded data removed]",
      "text/plain": [
       "<Figure size 432x288 with 1 Axes>"
      ]
     },
     "metadata": {
      "needs_background": "light"
     },
     "output_type": "display_data"
    }
   ],
   "source": [
    "sns.boxplot(x=\"is_goal\", y=\"blocking_players\", data=shot_completed)"
   ]
  },
  {
   "cell_type": "code",
   "execution_count": 216,
   "id": "820184ac",
   "metadata": {},
   "outputs": [
    {
     "data": {
      "text/plain": [
       "0     12452\n",
       "1      7019\n",
       "2      2457\n",
       "3       882\n",
       "4       421\n",
       "5       184\n",
       "6        89\n",
       "7        35\n",
       "8         9\n",
       "9         6\n",
       "10        1\n",
       "Name: blocking_players, dtype: int64"
      ]
     },
     "execution_count": 216,
     "metadata": {},
     "output_type": "execute_result"
    }
   ],
   "source": [
    "shot_completed.blocking_players.value_counts()"
   ]
  },
  {
   "cell_type": "markdown",
   "id": "2c586c8c",
   "metadata": {},
   "source": [
    "Although the boxplot shows there are no correlations between the occurrence of goals with the number of blocking players, we can see there are some patterns at the outlier points that the shot can become a goal if there are fewer people that could block the shot. Now let's see if the model improves when we use this feature."
   ]
  },
  {
   "cell_type": "code",
   "execution_count": 217,
   "id": "d1a72e5e",
   "metadata": {},
   "outputs": [],
   "source": [
    "from sklearn.preprocessing import LabelEncoder, StandardScaler\n",
    "\n",
    "# Gather all the input variables\n",
    "X = shot_completed.drop(['is_goal'], axis=1)\n",
    "\n",
    "# Encode the is_goal variable. The 0 value represents No Goal, and the 1 value represents Goal.\n",
    "y = np.where(shot_completed.is_goal == 'No Goal', 0, 1)\n",
    "\n",
    "# Divide the data into train and test data \n",
    "X_train, X_test, y_train, y_test = train_test_split(X, y, test_size=0.2, random_state=42)\n",
    "\n",
    "# Numerical Variables\n",
    "num_var = ['minute', 'duration', 'x', 'y', 'distance', 'angle', 'blocking_players']\n",
    "\n",
    "# Scaling the numerical variables to avoid any dominance\n",
    "X_train_num = X_train[num_var]\n",
    "X_test_num = X_test[num_var]\n",
    "\n",
    "# I fit only the train data to avoid any data leakage from the test data\n",
    "scaler = StandardScaler()\n",
    "scaler.fit(X_train_num)\n",
    "\n",
    "X_train_num = scaler.transform(X_train_num)\n",
    "X_test_num = scaler.transform(X_test_num)\n",
    "\n",
    "# Categorical Variables\n",
    "cat_var = ['shot_body_part_name', 'play_pattern_name', 'shot_technique_name']\n",
    "\n",
    "X_train_cat = X_train[cat_var]\n",
    "X_test_cat = X_test[cat_var]\n",
    "\n",
    "le = LabelEncoder()\n",
    "\n",
    "le.fit(X_train_cat.shot_body_part_name)\n",
    "X_train_cat['shot_body_part_name'] = le.transform(X_train_cat.shot_body_part_name)\n",
    "X_test_cat['shot_body_part_name'] = le.transform(X_test_cat.shot_body_part_name)\n",
    "\n",
    "le.fit(X_train_cat.play_pattern_name)\n",
    "X_train_cat['play_pattern_name'] = le.transform(X_train_cat.play_pattern_name)\n",
    "X_test_cat['play_pattern_name'] = le.transform(X_test_cat.play_pattern_name)\n",
    "\n",
    "le.fit(X_train_cat.shot_technique_name)\n",
    "X_train_cat['shot_technique_name'] = le.transform(X_train_cat.shot_technique_name)\n",
    "X_test_cat['shot_technique_name'] = le.transform(X_test_cat.shot_technique_name)\n",
    "\n",
    "X_train_cat = X_train_cat.values\n",
    "X_test_cat = X_test_cat.values\n",
    "\n",
    "X_train = np.concatenate([X_train_num, X_train_cat], axis=1)\n",
    "X_test = np.concatenate([X_test_num, X_test_cat], axis=1)"
   ]
  },
  {
   "cell_type": "code",
   "execution_count": 218,
   "id": "4d74721d",
   "metadata": {},
   "outputs": [
    {
     "name": "stdout",
     "output_type": "stream",
     "text": [
      "              precision    recall  f1-score   support\n",
      "\n",
      "           0       0.96      0.81      0.88      4190\n",
      "           1       0.33      0.75      0.46       521\n",
      "\n",
      "    accuracy                           0.80      4711\n",
      "   macro avg       0.64      0.78      0.67      4711\n",
      "weighted avg       0.89      0.80      0.83      4711\n",
      "\n"
     ]
    }
   ],
   "source": [
    "from imblearn.over_sampling import SMOTE\n",
    "\n",
    "# Applying SMOTE\n",
    "sm = SMOTE(random_state=42)\n",
    "X_res, y_res = sm.fit_resample(X_train, y_train)\n",
    "\n",
    "model = GradientBoostingClassifier(random_state=42)\n",
    "model.fit(X_res, y_res)\n",
    "y_pred = model.predict(X_test)\n",
    "print(classification_report(y_test, y_pred))\n",
    "\n",
    "#######################################################\n",
    "# PREVIOUS RESULT (Gradient Boosting with SMOTE sampling method)\n",
    "#######################################################\n",
    "#               precision    recall  f1-score   support\n",
    "\n",
    "#            0       0.96      0.79      0.87      4190\n",
    "#            1       0.31      0.76      0.44       521\n",
    "\n",
    "#     accuracy                           0.78      4711\n",
    "#    macro avg       0.64      0.77      0.65      4711\n",
    "# weighted avg       0.89      0.78      0.82      4711"
   ]
  },
  {
   "cell_type": "markdown",
   "id": "702b276e",
   "metadata": {},
   "source": [
    "**The model improves!** By adding that variable, I managed to get 0.02 percent of improvement on precision and f1-score. Keep in mind that a small percentage of improvement still matters. From this, I have finished improving the model. Besides the modeling process, I also look at which variables have a contribution to the prediction result."
   ]
  },
  {
   "cell_type": "markdown",
   "id": "65332f20",
   "metadata": {},
   "source": [
    "## The Variable Importance"
   ]
  },
  {
   "cell_type": "code",
   "execution_count": 229,
   "id": "304b8cef",
   "metadata": {},
   "outputs": [],
   "source": [
    "feature_names = ['minute', 'duration', 'x', 'y', 'distance', 'angle', 'blocking_players', 'shot_body_part_name', 'play_pattern_name', 'shot_technique_name']\n",
    "feature_importance = model.feature_importances_"
   ]
  },
  {
   "cell_type": "code",
   "execution_count": 251,
   "id": "35a906ad",
   "metadata": {},
   "outputs": [
    {
     "data": {
      "image/png": "[encoded data removed]",
      "text/plain": [
       "<Figure size 432x288 with 1 Axes>"
      ]
     },
     "metadata": {
      "needs_background": "light"
     },
     "output_type": "display_data"
    }
   ],
   "source": [
    "fi = pd.DataFrame()\n",
    "fi['name'] = feature_names\n",
    "fi['value'] = feature_importance\n",
    "fi.sort_values('value').plot('name', 'value', kind='barh')\n",
    "\n",
    "plt.title('Feature Importance of The xG Model')\n",
    "plt.show()"
   ]
  },
  {
   "cell_type": "markdown",
   "id": "d81b5bc1",
   "metadata": {},
   "source": [
    "The graph above describes the importance of each variable on the prediction result. You can see that the angle variable is the most important variable of all variables. Then, it follows by duration, blocking_players, distance, body part, technique, play pattern, minute, and coordinates based on its importance, respectively. \n",
    "\n",
    "Surprisingly, my proposed variable, the blocking players, becomes the second most important variable. From this result, I am certain that the goal shot is determined by the number of people that could block the shot. "
   ]
  }
 ],
 "metadata": {
  "kernelspec": {
   "display_name": "Python 3 (ipykernel)",
   "language": "python",
   "name": "python3"
  },
  "language_info": {
   "codemirror_mode": {
    "name": "ipython",
    "version": 3
   },
   "file_extension": ".py",
   "mimetype": "text/x-python",
   "name": "python",
   "nbconvert_exporter": "python",
   "pygments_lexer": "ipython3",
   "version": "3.9.7"
  }
 },
 "nbformat": 4,
 "nbformat_minor": 5
}
