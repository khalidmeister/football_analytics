{
 "cells": [
  {
   "cell_type": "code",
   "execution_count": null,
   "id": "7eb9303c",
   "metadata": {},
   "outputs": [],
   "source": [
    "import pandas as pd\n",
    "\n",
    "competitions = pd.read_json('open-data/data/competitions.json')\n",
    "competitions[competitions.competition_name == 'Champions League']"
   ]
  },
  {
   "cell_type": "code",
   "execution_count": null,
   "id": "c1adc047",
   "metadata": {},
   "outputs": [],
   "source": [
    "import json\n",
    "\n",
    "with open('open-data/data/matches/16/37.json') as f:\n",
    "    data = json.load(f)\n",
    "    \n",
    "for i in data:\n",
    "    print(i['match_id'], i['home_team']['home_team_name'], i['home_score'], \"-\", i['away_score'], i['away_team']['away_team_name'])"
   ]
  },
  {
   "cell_type": "code",
   "execution_count": null,
   "id": "9e0ac661",
   "metadata": {},
   "outputs": [],
   "source": [
    "with open('open-data/data/events/2302764.json') as f:\n",
    "    data = json.load(f)\n",
    "    df = pd.json_normalize(data, sep=\"_\")\n",
    "    \n",
    "df.head()"
   ]
  },
  {
   "cell_type": "code",
   "execution_count": null,
   "id": "f8d1d7b9",
   "metadata": {},
   "outputs": [],
   "source": [
    "first_half = df.loc[:1808, :]\n",
    "second_half = df.loc[1809:3551, :]"
   ]
  },
  {
   "cell_type": "code",
   "execution_count": null,
   "id": "9ee405fc",
   "metadata": {},
   "outputs": [],
   "source": [
    "from mplsoccer import Pitch\n",
    "\n",
    "pitch = Pitch(pitch_type='statsbomb')"
   ]
  },
  {
   "cell_type": "code",
   "execution_count": null,
   "id": "a717502c",
   "metadata": {},
   "outputs": [],
   "source": [
    "pitch = VerticalPitch(pitch_type='statsbomb', half=True)"
   ]
  },
  {
   "cell_type": "code",
   "execution_count": null,
   "id": "d3398208",
   "metadata": {},
   "outputs": [],
   "source": [
    "shots = first_half[first_half.type_name == 'Shot']\n",
    "shots = shots[shots.team_name == 'AC Milan']\n",
    "shots = shots[['team_name', 'player_name', 'minute', 'second', 'location', 'shot_statsbomb_xg', 'shot_outcome_name']]\n",
    "\n",
    "shots['x'] = shots.location.apply(lambda x: x[0])\n",
    "shots['y'] = shots.location.apply(lambda x: x[1])\n",
    "shots = shots.drop('location', axis=1)\n",
    "\n",
    "goals = shots[shots.shot_outcome_name == 'Goal']\n",
    "shots = shots[shots.shot_outcome_name != 'Goal']\n",
    "\n",
    "shots.head()"
   ]
  }
 ],
 "metadata": {
  "kernelspec": {
   "display_name": "Python 3 (ipykernel)",
   "language": "python",
   "name": "python3"
  },
  "language_info": {
   "codemirror_mode": {
    "name": "ipython",
    "version": 3
   },
   "file_extension": ".py",
   "mimetype": "text/x-python",
   "name": "python",
   "nbconvert_exporter": "python",
   "pygments_lexer": "ipython3",
   "version": "3.9.7"
  }
 },
 "nbformat": 4,
 "nbformat_minor": 5
}
